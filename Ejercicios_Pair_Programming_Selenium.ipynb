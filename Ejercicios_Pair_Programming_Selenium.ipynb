{
 "cells": [
  {
   "cell_type": "markdown",
   "metadata": {},
   "source": [
    "# Ejercicios Selenium \n",
    "### Extracción de Datos de Libros de Ficción en La Casa del Libro\n",
    "\n",
    "Enunciado - Imagina que eres un analista de datos en una importante cadena de librerías y tu misión es recopilar información actualizada sobre los libros de ficción disponibles en el mercado. Esta información es vital para tomar decisiones estratégicas, como determinar qué libros de ficción deben ser promocionados, ajustar los precios competitivamente y gestionar adecuadamente el inventario. La Casa del Libro es uno de los principales competidores, por lo que es esencial mantenerse al tanto de su catálogo.\n",
    "\n",
    "**Objetivo del Ejercicio:** El objetivo de este ejercicio es que las alumnas utilicen Selenium en Python para automatizar la extracción de datos de los libros de ficción en el sitio web de La Casa del Libro. Deberán obtener información clave de los libros, incluyendo título, autor, precio, editorial, idioma y número de páginas.\n",
    "\n",
    "**Descripción**:\n",
    "\n",
    "Acceso a la Página de La Casa del Libro: Utilizando Selenium, deberás automatizar el proceso de navegación hacia la página de libros de ficción en el sitio web de La Casa del Libro.\n",
    "\n",
    "Extracción de Datos de las 5 Primeras Páginas: Una vez en la página de libros de ficción, debes programar su script para que recorra los 5 primeros libros de libros, extrayendo los siguientes datos de cada libro:\n",
    "\n",
    "Título del libro.\n",
    "\n",
    "Autor(es) del libro.\n",
    "\n",
    "Precio del libro.\n",
    "\n",
    "Editorial del libro.\n",
    "\n",
    "Idioma del libro.\n",
    "\n",
    "Número de páginas del libro.\n",
    "\n",
    "Almacenamiento de Datos: Los datos extraídos deben almacenarse en un DataFrame."
   ]
  },
  {
   "cell_type": "code",
   "execution_count": 1,
   "metadata": {},
   "outputs": [],
   "source": [
    "import pandas as pd\n",
    "from bs4 import BeautifulSoup\n",
    "\n",
    "from selenium import webdriver\n",
    "from selenium.common.exceptions import NoSuchElementException\n",
    "from webdriver_manager.chrome import ChromeDriverManager\n",
    "from selenium import webdriver\n",
    "from selenium.webdriver.common.keys import Keys\n",
    "from time import sleep\n",
    "pd.set_option('display.max_columns', None)  # Establece una opción de Pandas para mostrar todas las columnas de un DataFrame."
   ]
  },
  {
   "cell_type": "code",
   "execution_count": 47,
   "metadata": {},
   "outputs": [],
   "source": [
    "driver = webdriver.Chrome()\n",
    "\n",
    "#Navego a la página de La Casa del Libro\n",
    "driver.get(\"https://www.casadellibro.com/\")\n",
    "\n",
    "driver.maximize_window()\n",
    "#Acepto coookies\n",
    "sleep(5)\n",
    "driver.find_element(\"css selector\", \"#onetrust-accept-btn-handler\").click()\n",
    "\n",
    "sleep(5)\n",
    "driver.find_element(\"link text\", \"Ficción\").click()"
   ]
  },
  {
   "cell_type": "code",
   "execution_count": 128,
   "metadata": {},
   "outputs": [
    {
     "data": {
      "text/plain": [
       "{'título': ['UN ANIMAL SALVAJE',\n",
       "  'LAS GUERRERAS MAXWELL, 9. LIBRE COMO EL VIENTO',\n",
       "  'EL NIÑO',\n",
       "  'EL ESPEJISMO',\n",
       "  'LA CIUDAD Y SUS MUROS INCIERTOS']}"
      ]
     },
     "execution_count": 128,
     "metadata": {},
     "output_type": "execute_result"
    }
   ],
   "source": [
    "sleep(5)\n",
    "#Creo diccionario con los títulos\n",
    "diccionario_casa_del_libro_titulos = {\"título\": []}\n",
    "\n",
    "for i in range(1, 6):\n",
    "    try:\n",
    "        titulos = driver.find_elements('css selector', f'#app > div.v-application--wrap > main > div > div > div > div:nth-child(4) > div > div > div:nth-child(2) > div > div.swiper > div:nth-child({i}) > div:nth-child(3)')\n",
    "        for titulo in titulos:\n",
    "            titulo_limpio = titulo.text.split('\\n')[0].strip()\n",
    "            diccionario_casa_del_libro_titulos[\"título\"].append(titulo_limpio)\n",
    "    except NoSuchElementException:\n",
    "        diccionario_casa_del_libro_titulos['título'].append('No disponible')\n",
    "\n",
    "diccionario_casa_del_libro_titulos"
   ]
  },
  {
   "cell_type": "code",
   "execution_count": 130,
   "metadata": {},
   "outputs": [
    {
     "data": {
      "text/plain": [
       "{'autor(es)': ['JOEL DICKER',\n",
       "  'MEGAN MAXWELL',\n",
       "  'FERNANDO ARAMBURU',\n",
       "  'CAMILLA LACKBERG y HENRIK FEXEUS',\n",
       "  'HARUKI MURAKAMI']}"
      ]
     },
     "execution_count": 130,
     "metadata": {},
     "output_type": "execute_result"
    }
   ],
   "source": [
    "#Creo diccionario con los autores\n",
    "diccionario_casa_del_libro_autores = {\"autor(es)\": []}\n",
    "\n",
    "for i in range(1, 6):\n",
    "    try:\n",
    "        autores = driver.find_elements('css selector', f'#app > div.v-application--wrap > main > div > div > div > div:nth-child(4) > div > div > div:nth-child(2) > div > div.swiper > div:nth-child({i}) > div:nth-child(3)')\n",
    "        for nombres in autores:\n",
    "            autor = nombres.text.split('\\n')[1].strip() \n",
    "            diccionario_casa_del_libro_autores[\"autor(es)\"].append(autor)\n",
    "    except NoSuchElementException:\n",
    "        diccionario_casa_del_libro_autores['autor(es)'].append('No disponible')\n",
    "\n",
    "diccionario_casa_del_libro_autores"
   ]
  },
  {
   "cell_type": "code",
   "execution_count": 131,
   "metadata": {},
   "outputs": [
    {
     "data": {
      "text/plain": [
       "{'precio': ['23,90 €', '18,00 €', '20,50 €', '23,90 €', '22,90 €']}"
      ]
     },
     "execution_count": 131,
     "metadata": {},
     "output_type": "execute_result"
    }
   ],
   "source": [
    "#Creo diccionario con los precios\n",
    "diccionario_casa_del_libro_precio = {'precio': []}\n",
    "\n",
    "for i in range(1, 6):\n",
    "    try:\n",
    "        precios = driver.find_elements('css selector', f'#app > div.v-application--wrap > main > div > div > div > div:nth-child(4) > div > div > div:nth-child(2) > div > div.swiper > div:nth-child({i}) > div.price-group')\n",
    "        for precio in precios:\n",
    "            precio_limpio = precio.text.split('\\n')[0].strip() \n",
    "            diccionario_casa_del_libro_precio['precio'].append(precio_limpio)\n",
    "    except NoSuchElementException:\n",
    "        diccionario_casa_del_libro_precio['precio'].append('No disponible')\n",
    "\n",
    "diccionario_casa_del_libro_precio"
   ]
  },
  {
   "cell_type": "code",
   "execution_count": 132,
   "metadata": {},
   "outputs": [
    {
     "name": "stdout",
     "output_type": "stream",
     "text": [
      "['https://www.casadellibro.com/libro-un-animal-salvaje/9788420476841/14519551', 'https://www.casadellibro.com/libro-las-guerreras-maxwell-9-libre-como-el-viento/9788408285984/15845507', 'https://www.casadellibro.com/libro-el-nino/9788411074445/15843396', 'https://www.casadellibro.com/libro-el-espejismo/9788408287018/15845536', 'https://www.casadellibro.com/libro-la-ciudad-y-sus-muros-inciertos/9788411074278/14508018', 'https://www.casadellibro.com/libro-novia/9788419988126/15821625', 'https://www.casadellibro.com/libro-blackwater-v-la-fortuna/9788419654977/14442382', 'https://www.casadellibro.com/libro-los-alemanes-premio-alfaguara-de-novela-2024/9788420476827/15823409', 'https://www.casadellibro.com/libro-blackwater-iv-la-guerra/9788419654953/14442380', 'https://www.casadellibro.com/libro-la-seduccion/9788419437808/14519498']\n"
     ]
    }
   ],
   "source": [
    "#Creo lista urls para iterar sobre los datos de los cinco libros que se encuentran en cada una de sus páginas.\n",
    "lista_url = []\n",
    "\n",
    "\n",
    "elementos_a = driver.find_elements('css selector','.d-none a[href]')\n",
    "\n",
    "for a in elementos_a:\n",
    "    url_libro = a.get_attribute('href')\n",
    "    lista_url.append(url_libro)\n",
    "\n",
    "print(lista_url)"
   ]
  },
  {
   "cell_type": "code",
   "execution_count": 133,
   "metadata": {},
   "outputs": [
    {
     "data": {
      "text/plain": [
       "{'editorial': ['ALFAGUARA',\n",
       "  'Esencia',\n",
       "  'Tusquets Editores S.A.',\n",
       "  'Editorial Planeta',\n",
       "  'Tusquets Editores S.A.']}"
      ]
     },
     "execution_count": 133,
     "metadata": {},
     "output_type": "execute_result"
    }
   ],
   "source": [
    "#Creo diccionario con las editoriales que itera por las cinco primeras urls de la lista de urls\n",
    "diccionario_casa_del_libro_editoriales = {'editorial': []}                                    \n",
    "\n",
    "for url in lista_url[:5]:\n",
    "    driver.get(url)\n",
    "    try:\n",
    "        editoriales = driver.find_elements('xpath', f'//*[@id=\"app\"]/div[1]/main/div/div/div/div[3]/div/div/div[2]/div/div[4]/div[1]')\n",
    "        for editorial in editoriales:\n",
    "            nombres_editoriales = editorial.text.split('\\n')[0].strip() \n",
    "            diccionario_casa_del_libro_editoriales['editorial'].append(nombres_editoriales)\n",
    "    except NoSuchElementException:\n",
    "        diccionario_casa_del_libro_editoriales['editorial'].append('No disponible')\n",
    "    \n",
    "    driver.back()\n",
    "\n",
    "diccionario_casa_del_libro_editoriales"
   ]
  },
  {
   "cell_type": "code",
   "execution_count": 134,
   "metadata": {},
   "outputs": [
    {
     "data": {
      "text/plain": [
       "{'páginas': [448, 512, 'No disponible', 'No disponible', 576]}"
      ]
     },
     "execution_count": 134,
     "metadata": {},
     "output_type": "execute_result"
    }
   ],
   "source": [
    "#Creo diccionario con el número de páginas que itera por las cinco primeras urls de la lista de urls. \n",
    "#Cómo la ubicación de este número parece cambiar en cada url opto por poner no disponible cuando no se pueda convertir a int.\n",
    "diccionario_casa_del_libro_paginas = {'páginas': []}\n",
    "\n",
    "for url in lista_url[:5]:\n",
    "    driver.get(url)\n",
    "    try:\n",
    "        paginas = driver.find_elements('xpath', f'//*[@id=\"app\"]/div[1]/main/div/div/div/div[7]/div/div/div[2]')\n",
    "        for numeros in paginas:\n",
    "            numero_paginas = numeros.text.split('\\n')[1].strip()\n",
    "            # Verificar si el número de páginas es un número\n",
    "            if numero_paginas.isdigit():\n",
    "                diccionario_casa_del_libro_paginas['páginas'].append(int(numero_paginas))\n",
    "            else:\n",
    "                diccionario_casa_del_libro_paginas['páginas'].append('No disponible')\n",
    "    except NoSuchElementException:\n",
    "        diccionario_casa_del_libro_paginas['páginas'].append('No disponible')\n",
    "    \n",
    "    driver.back()\n",
    "\n",
    "diccionario_casa_del_libro_paginas"
   ]
  },
  {
   "cell_type": "code",
   "execution_count": 147,
   "metadata": {},
   "outputs": [
    {
     "data": {
      "text/html": [
       "<div>\n",
       "<style scoped>\n",
       "    .dataframe tbody tr th:only-of-type {\n",
       "        vertical-align: middle;\n",
       "    }\n",
       "\n",
       "    .dataframe tbody tr th {\n",
       "        vertical-align: top;\n",
       "    }\n",
       "\n",
       "    .dataframe thead th {\n",
       "        text-align: right;\n",
       "    }\n",
       "</style>\n",
       "<table border=\"1\" class=\"dataframe\">\n",
       "  <thead>\n",
       "    <tr style=\"text-align: right;\">\n",
       "      <th></th>\n",
       "      <th>título</th>\n",
       "      <th>autor(es)</th>\n",
       "      <th>precio</th>\n",
       "      <th>editorial</th>\n",
       "      <th>páginas</th>\n",
       "    </tr>\n",
       "  </thead>\n",
       "  <tbody>\n",
       "    <tr>\n",
       "      <th>0</th>\n",
       "      <td>UN ANIMAL SALVAJE</td>\n",
       "      <td>JOEL DICKER</td>\n",
       "      <td>23,90 €</td>\n",
       "      <td>ALFAGUARA</td>\n",
       "      <td>448</td>\n",
       "    </tr>\n",
       "    <tr>\n",
       "      <th>1</th>\n",
       "      <td>LAS GUERRERAS MAXWELL, 9. LIBRE COMO EL VIENTO</td>\n",
       "      <td>MEGAN MAXWELL</td>\n",
       "      <td>18,00 €</td>\n",
       "      <td>Esencia</td>\n",
       "      <td>512</td>\n",
       "    </tr>\n",
       "    <tr>\n",
       "      <th>2</th>\n",
       "      <td>EL NIÑO</td>\n",
       "      <td>FERNANDO ARAMBURU</td>\n",
       "      <td>20,50 €</td>\n",
       "      <td>Tusquets Editores S.A.</td>\n",
       "      <td>No disponible</td>\n",
       "    </tr>\n",
       "    <tr>\n",
       "      <th>3</th>\n",
       "      <td>EL ESPEJISMO</td>\n",
       "      <td>CAMILLA LACKBERG y HENRIK FEXEUS</td>\n",
       "      <td>23,90 €</td>\n",
       "      <td>Editorial Planeta</td>\n",
       "      <td>No disponible</td>\n",
       "    </tr>\n",
       "    <tr>\n",
       "      <th>4</th>\n",
       "      <td>LA CIUDAD Y SUS MUROS INCIERTOS</td>\n",
       "      <td>HARUKI MURAKAMI</td>\n",
       "      <td>22,90 €</td>\n",
       "      <td>Tusquets Editores S.A.</td>\n",
       "      <td>576</td>\n",
       "    </tr>\n",
       "  </tbody>\n",
       "</table>\n",
       "</div>"
      ],
      "text/plain": [
       "                                           título  \\\n",
       "0                               UN ANIMAL SALVAJE   \n",
       "1  LAS GUERRERAS MAXWELL, 9. LIBRE COMO EL VIENTO   \n",
       "2                                         EL NIÑO   \n",
       "3                                    EL ESPEJISMO   \n",
       "4                 LA CIUDAD Y SUS MUROS INCIERTOS   \n",
       "\n",
       "                          autor(es)   precio               editorial  \\\n",
       "0                       JOEL DICKER  23,90 €               ALFAGUARA   \n",
       "1                     MEGAN MAXWELL  18,00 €                 Esencia   \n",
       "2                 FERNANDO ARAMBURU  20,50 €  Tusquets Editores S.A.   \n",
       "3  CAMILLA LACKBERG y HENRIK FEXEUS  23,90 €       Editorial Planeta   \n",
       "4                   HARUKI MURAKAMI  22,90 €  Tusquets Editores S.A.   \n",
       "\n",
       "         páginas  \n",
       "0            448  \n",
       "1            512  \n",
       "2  No disponible  \n",
       "3  No disponible  \n",
       "4            576  "
      ]
     },
     "execution_count": 147,
     "metadata": {},
     "output_type": "execute_result"
    }
   ],
   "source": [
    "df_titulos = pd.DataFrame(diccionario_casa_del_libro_titulos)\n",
    "\n",
    "# Creo el DataFrame para los autores\n",
    "df_autores = pd.DataFrame(diccionario_casa_del_libro_autores)\n",
    "\n",
    "# Creo el DataFrame para los precios\n",
    "df_precios = pd.DataFrame(diccionario_casa_del_libro_precio)\n",
    "\n",
    "# Creo el DataFrame para las editoriales\n",
    "df_editoriales = pd.DataFrame(diccionario_casa_del_libro_editoriales)\n",
    "\n",
    "# Creo el DataFrame para las páginas\n",
    "df_paginas = pd.DataFrame(diccionario_casa_del_libro_paginas)\n",
    "\n",
    "# Creo un diccionario con todos los datos y uso tolsit para poder convertirlos a un DataFrame bonito.\n",
    "diccionario_completo = {\n",
    "    'título': df_titulos['título'].tolist(),\n",
    "    'autor(es)': df_autores['autor(es)'].tolist(),\n",
    "    'precio': df_precios['precio'].tolist(),\n",
    "    'editorial': df_editoriales['editorial'].tolist(),\n",
    "    'páginas': df_paginas['páginas'].tolist()\n",
    "}\n",
    "\n",
    "# Muestro el diccionario completo\n",
    "diccionario_completo\n",
    "df_casa_del_libro = pd.DataFrame(diccionario_completo)\n",
    "df_casa_del_libro  "
   ]
  }
 ],
 "metadata": {
  "kernelspec": {
   "display_name": "base",
   "language": "python",
   "name": "python3"
  },
  "language_info": {
   "codemirror_mode": {
    "name": "ipython",
    "version": 3
   },
   "file_extension": ".py",
   "mimetype": "text/x-python",
   "name": "python",
   "nbconvert_exporter": "python",
   "pygments_lexer": "ipython3",
   "version": "3.11.5"
  }
 },
 "nbformat": 4,
 "nbformat_minor": 2
}
